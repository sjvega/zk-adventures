{
 "cells": [
  {
   "cell_type": "markdown",
   "id": "b9b34cb7-21ea-4eb9-ad98-00736c4f7f8a",
   "metadata": {},
   "source": [
    "# Schnorr with 1-bit challenge and multiple rounds"
   ]
  },
  {
   "cell_type": "markdown",
   "id": "6ee7e991",
   "metadata": {},
   "source": [
    "Using the Fiat-Shamir heuristic to transform an interactive proof with only 1-bit of security per round into a non-interactive protocol is not secure. Here's an implementation of such a thing for the 1-bit challenge Schnorr protocol. Your goal is to break it in the next section"
   ]
  },
  {
   "cell_type": "code",
   "execution_count": 42,
   "id": "c709defc",
   "metadata": {},
   "outputs": [],
   "source": [
    "from common import Transcript, Sha3_256Transcript"
   ]
  },
  {
   "cell_type": "code",
   "execution_count": 43,
   "id": "4d3921dd",
   "metadata": {},
   "outputs": [],
   "source": [
    "# Secure prime to be used in Schnorr\n",
    "# 2048-bit MODP Group (https://datatracker.ietf.org/doc/html/rfc3526#section-3)\n",
    "PRIME = 0xFFFFFFFFFFFFFFFFC90FDAA22168C234C4C6628B80DC1CD129024E088A67CC74020BBEA63B139B22514A08798E3404DDEF9519B3CD3A431B302B0A6DF25F14374FE1356D6D51C245E485B576625E7EC6F44C42E9A637ED6B0BFF5CB6F406B7EDEE386BFB5A899FA5AE9F24117C4B1FE649286651ECE45B3DC2007CB8A163BF0598DA48361C55D39A69163FA8FD24CF5F83655D23DCA3AD961C62F356208552BB9ED529077096966D670C354E4ABC9804F1746C08CA18217C32905E462E36CE3BE39E772C180E86039B2783A2EC07A28FB5C55DF06F4C52C9DE2BCBF6955817183995497CEA956AE515D2261898FA051015728E5A8AACAA68FFFFFFFFFFFFFFFF\n",
    "\n",
    "# This may take some time since SageMath checks the primality of `PRIME`\n",
    "F = GF(PRIME)\n",
    "generator = F(2)"
   ]
  },
  {
   "cell_type": "code",
   "execution_count": 44,
   "id": "4362a62d",
   "metadata": {},
   "outputs": [],
   "source": [
    "from tqdm.auto import tqdm\n",
    "\n",
    "from math import ceil\n",
    "from random import randint\n",
    "from dataclasses import dataclass\n",
    "from typing import List\n",
    "\n",
    "NUMBER_ITERATIONS = 200\n",
    "\n",
    "\n",
    "class Party:\n",
    "    def __init__(self, generator):\n",
    "        self._generator = F(generator)   \n",
    "\n",
    "\n",
    "@dataclass\n",
    "class Proof:\n",
    "    R_list: List[int]\n",
    "    s_list: List[int]\n",
    "\n",
    "\n",
    "class SchnorrProver(Party):\n",
    "    @staticmethod\n",
    "    def simulate_send_field_element(element: int, transcript: Transcript):\n",
    "        \"\"\" Appends the element's big endian representation to the transcript \"\"\"\n",
    "        prime_byte_length = ceil(len(bin(F.order())[2:]) / 8)\n",
    "        element_as_bytes = int(element).to_bytes(prime_byte_length, \"big\")\n",
    "        transcript.append(element_as_bytes)\n",
    "\n",
    "    def prove(self, a: int, transcript: Transcript):\n",
    "        R_list = []\n",
    "        s_list = []\n",
    "        for _ in tqdm(range(NUMBER_ITERATIONS)):\n",
    "            r = randint(0, F.order() - 1)\n",
    "            R = self._generator ** r\n",
    "            \n",
    "            # Fiat-Shamir simulated interactions\n",
    "            self.simulate_send_field_element(R, transcript)\n",
    "            b = SchnorrVerifier.simulate_choose_challenge(transcript)\n",
    "            \n",
    "            s = (r + a * b) % (F.order() - 1)\n",
    "\n",
    "            R_list.append(R)\n",
    "            s_list.append(s)\n",
    "        \n",
    "        return Proof(R_list=R_list, s_list=s_list)\n"
   ]
  },
  {
   "cell_type": "code",
   "execution_count": 45,
   "id": "f4082ff5-ad47-4562-83bb-6a7bcb9939c9",
   "metadata": {},
   "outputs": [],
   "source": [
    "\n",
    "class SchnorrVerifier(Party):\n",
    "    @staticmethod\n",
    "    def simulate_choose_challenge(transcript: Transcript):\n",
    "        \"\"\"\n",
    "        Samples a random bit from the transcript\n",
    "        \"\"\"\n",
    "        return int.from_bytes(transcript.sample(), \"big\") % 2\n",
    "    \n",
    "    def verify(self, A: int, proof: Proof, transcript: Transcript):\n",
    "        for R, s in zip(proof.R_list, proof.s_list):\n",
    "            # Fiat-Shamir simulated interactions\n",
    "            SchnorrProver.simulate_send_field_element(R, transcript)\n",
    "            b = self.simulate_choose_challenge(transcript)\n",
    "            \n",
    "            left_hand_side = F(R) * F(A) ** b\n",
    "            right_hand_side = self._generator ** s\n",
    "\n",
    "            if left_hand_side != right_hand_side:\n",
    "                return False\n",
    "        return True"
   ]
  },
  {
   "cell_type": "code",
   "execution_count": 23,
   "id": "6525f3d1-bd32-4255-a3d7-461319d7490c",
   "metadata": {},
   "outputs": [],
   "source": [
    "generator = F(2)\n",
    "a = 0xcafe\n",
    "A = pow(generator, a, PRIME)\n",
    "\n",
    "# Transcript initialization nonce\n",
    "nonce = bytes.fromhex(\"deadbeef\") + int(A).to_bytes(2048, \"big\")\n",
    "\n",
    "prover = SchnorrProver(generator)\n",
    "proof = prover.prove(a, Sha3_256Transcript(nonce))\n",
    "\n",
    "verifier = SchnorrVerifier(generator)\n",
    "assert(verifier.verify(A, proof, Sha3_256Transcript(nonce)))"
   ]
  },
  {
   "cell_type": "markdown",
   "id": "d40cdba9-608a-4605-95aa-056234bc645d",
   "metadata": {},
   "source": [
    "# Malicious prover"
   ]
  },
  {
   "cell_type": "markdown",
   "id": "adfee909",
   "metadata": {},
   "source": [
    "Your goal here is to come up with a malicious prover that can produce fake proofs and convince a verifier even when he doesn't know the discrete logarithm of the public parameter `A`."
   ]
  },
  {
   "cell_type": "code",
   "execution_count": 79,
   "id": "5a379cad-bce1-4bf3-b909-0f9521a94ec1",
   "metadata": {},
   "outputs": [],
   "source": [
    "class SchnorrMaliciousProver(Party):\n",
    "    def prove(self, transcript: Transcript):\n",
    "        R_list = []\n",
    "        s_list = []\n",
    "        for _ in tqdm(range(NUMBER_ITERATIONS)):\n",
    "            # COMPLETE\n",
    "            while(True):\n",
    "                new_transcript = Sha3_256Transcript(nonce)\n",
    "                for R in R_list:\n",
    "                    SchnorrProver.simulate_send_field_element(R, new_transcript)\n",
    "                    SchnorrVerifier.simulate_choose_challenge(new_transcript)\n",
    "                r = randint(0, F.order() - 1 )\n",
    "                R = self._generator ** r\n",
    "                SchnorrProver.simulate_send_field_element(R, new_transcript)\n",
    "                c = SchnorrVerifier.simulate_choose_challenge(new_transcript)\n",
    "                if ( c==0):\n",
    "                    break\n",
    "            SchnorrProver.simulate_send_field_element(R, transcript)\n",
    "            SchnorrVerifier.simulate_choose_challenge(transcript)\n",
    "            s = r\n",
    "            R_list.append(R)\n",
    "            s_list.append(s)\n",
    "        \n",
    "        return Proof(R_list=R_list, s_list=s_list)"
   ]
  },
  {
   "cell_type": "code",
   "execution_count": 80,
   "id": "a7ab8423-8204-4187-a651-64a1ce248070",
   "metadata": {},
   "outputs": [],
   "source": [
    "# [TEST]\n",
    "\n",
    "generator = F(2)\n",
    "# a value `A` of which you don't know the discrete logarithm\n",
    "A = 0x1C6583A8EC6612C6DEAD596A26279C6A7304C1BB9123EBE8B20D2AA978E2C1BF3C7D44533DD05B7B3199452B229301462B9D6DF43700296C306D042313C165E29C916C048A4F618812D4B063EFD497B4C35F2E8020A03D8C351D9C22D7A7F20CF9822AFA4204AAD1F4C1E6D9E71E4F38594C3B16A59E6FED31AAAA848F23AE3A77AAF8C59A74379CBCCBFEA9FD57AD3CA616C0790F4000FA68DE253BEFB13A4A4F0A3D3E321872F1BCA1E205637A9598A231C7B24BFBA2E418434BFAE22E18CE722722B18AC71A650357BDF3175CC2A24C06B416C6C333A1919783E02F2BBDA2BB55E5BFAA42BB5EF541221B28F4ADCECE2A336734D8ED3F084086998384618\n",
    "\n",
    "# Transcript initialization nonce\n",
    "nonce = bytes.fromhex(\"deadbeef\") + int(A).to_bytes(2048, \"big\")\n",
    "\n",
    "malicious_prover = SchnorrMaliciousProver(generator)\n",
    "fake_proof = malicious_prover.prove(Sha3_256Transcript(nonce))\n",
    "\n",
    "verifier = SchnorrVerifier(generator)\n",
    "assert(verifier.verify(A, fake_proof, Sha3_256Transcript(nonce)))"
   ]
  },
  {
   "cell_type": "code",
   "execution_count": null,
   "id": "9080ab42",
   "metadata": {},
   "outputs": [],
   "source": []
  }
 ],
 "metadata": {
  "kernelspec": {
   "display_name": "SageMath 10.4",
   "language": "sage",
   "name": "sagemath"
  },
  "language_info": {
   "codemirror_mode": {
    "name": "ipython",
    "version": 3
   },
   "file_extension": ".py",
   "mimetype": "text/x-python",
   "name": "python",
   "nbconvert_exporter": "python",
   "pygments_lexer": "ipython3",
   "version": "3.12.4"
  }
 },
 "nbformat": 4,
 "nbformat_minor": 5
}
