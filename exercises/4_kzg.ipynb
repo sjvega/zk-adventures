{
 "cells": [
  {
   "cell_type": "markdown",
   "id": "478325ae",
   "metadata": {},
   "source": [
    "# KZG"
   ]
  },
  {
   "cell_type": "markdown",
   "id": "27d52286",
   "metadata": {},
   "source": [
    "The construction of the \"oracles\" will be solved using the concept of \"polynomial commitments\". These are values that are binded to the polynomial without revealing its exact form. This value is derived from the polynomial in such a way that it’s very hard to figure out the original polynomial just by looking at the commitment. However, this commitment is still uniquely tied to the original polynomial (with overwhelming probability).\n",
    "\n",
    "In KZG these will be instantiated using two ideas: (Elliptic Curve) Discrete Log Problem + Schwarz-Zippel Lemma. Say I have a polynomial $f$ and compute $f(\\tau) G$ for some random element $\\tau$. Since the discrete log problem is hard in elliptic curves, it's very unlikely that someone with access to $f(\\tau)G$ will be able to obtain $f(\\tau)$. So, the value $f(\\tau) G$ reveals nothing about the original polynomial $f$. On the other hand, if $g(\\tau) G$ equals $f(\\tau) G$ for some other polynomial $g$, then $f(\\tau)$ equals $g(\\tau)$. Since $\\tau$ is random, we deduce that $f$ equals $g$ as polynomials. And thus, $f(\\tau) G$ is uniquely tied to the original polynomial with overwhelming probability.\n",
    "\n",
    "One first problem is that the above works as long as the random value $\\tau$ is not known to the committing party. Or otherwise it could craft polynomials that are different but take the same value at $\\tau$, breaking the purpose of the commitment. So, how can anyone compute $f(\\tau)G$ without knowing $\\tau$? The solution is what's called an SRS. There are protocols that can be run between multiple parties producing the following list of points\n",
    "\n",
    "$$G, \\tau G, \\tau^2 G, \\dots, \\tau^N G,$$\n",
    "\n",
    "for a random element $\\tau$ not known to any party (as long as one party is honest). This list of elements is called an SRS.\n",
    "Having such list solves the problem, since:\n",
    "- The value of $\\tau$ can't be computed off the list assuming the DLOG problem is hard.\n",
    "- The commiting party can compute $f(\\tau) G$ as $$f_0G + f_1 \\tau G + f_2 \\tau^2 G + \\cdots + f_k \\tau^k G,$$ where $f_i$ is the $i$-th coefficient of $f$ in the monomial basis. The only constraint is that the degree of $f$ must be at most $N$.\n"
   ]
  },
  {
   "cell_type": "markdown",
   "id": "afed9109",
   "metadata": {},
   "source": [
    "## The KZG Polynomial Commitment Scheme"
   ]
  },
  {
   "cell_type": "markdown",
   "id": "553c13f7",
   "metadata": {},
   "source": [
    "Let $G$ be a point in an elliptic curve with order $p$. If $x \\in \\mathbb{F}_p$, then $x G$ is defined as $G + \\cdots G$ $x$ times.\n",
    "\n",
    "**Commitment for $f \\in \\mathbb{F}_p[X]$**: return $$f(\\tau)G$$\n",
    "\n",
    "**Opening for $z \\in \\mathbb{F}_p$**: Compute $t = (p - p(z)) / (X - z)$, return $p(z)$ and $t(\\tau) G$\n",
    "\n",
    "**Verify**: return Accept if $e( f(\\tau) G - y G, G)$ equals $e(t(\\tau), \\tau G - y G)$"
   ]
  },
  {
   "cell_type": "code",
   "execution_count": 9,
   "id": "6a423c6a",
   "metadata": {},
   "outputs": [],
   "source": [
    "from typing import List\n",
    "from zk_adventures_types import F, Polynomial, CURVE_GENERATOR as G, CURVE_NEUTRAL_ELEMENT as O, pairing, E\n",
    "from kzg_srs import SRS"
   ]
  },
  {
   "cell_type": "code",
   "execution_count": 10,
   "id": "65cb0da0",
   "metadata": {},
   "outputs": [],
   "source": [
    "def commit_polynomial_for_srs(p: Polynomial, srs):\n",
    "    \"\"\"Returns the commitment of `p` using the given SRS\"\"\"\n",
    "    result = O\n",
    "    p_coeff = p.list()\n",
    "    for i in range(len(p_coeff)):\n",
    "        result += p_coeff[i] * srs[i]\n",
    "    return result"
   ]
  },
  {
   "cell_type": "code",
   "execution_count": 11,
   "id": "d4ba624f",
   "metadata": {},
   "outputs": [],
   "source": [
    "#[TEST]\n",
    "\n",
    "X = Polynomial.monomial(1)\n",
    "\n",
    "polynomial = 47077*X^6 + 4097*X^5 + 64206*X^4 + 38157*X^3 + 4872*X^2 + 10925*X + 48147\n",
    "expected_commitment = E(107534, 213309, 1)\n",
    "assert commit_polynomial_for_srs(polynomial, SRS) == expected_commitment"
   ]
  },
  {
   "cell_type": "code",
   "execution_count": 12,
   "id": "ca6d9bce",
   "metadata": {},
   "outputs": [],
   "source": [
    "def open_polynomial_for_srs(p: Polynomial, z, srs):\n",
    "    \"\"\"Returns `p(z)` and the KZG opening proof of it using the given SRS\"\"\"\n",
    "    t = (p - p(z)) // (X - z)\n",
    "    return p(z), commit_polynomial_for_srs(t, srs)"
   ]
  },
  {
   "cell_type": "code",
   "execution_count": 13,
   "id": "76e32d09",
   "metadata": {},
   "outputs": [],
   "source": [
    "#[TEST]\n",
    "\n",
    "y, proof = open_polynomial_for_srs(polynomial, 0xcafecafe, SRS)\n",
    "assert y == 48147\n",
    "assert proof == E(40401, 209607, 1)"
   ]
  },
  {
   "cell_type": "code",
   "execution_count": 14,
   "id": "05b72edc",
   "metadata": {},
   "outputs": [],
   "source": [
    "class KZGProver:\n",
    "    def __init__(self, srs):\n",
    "        self._srs = srs\n",
    "        \n",
    "    def commit_polynomial(self, p: Polynomial):\n",
    "        return commit_polynomial_for_srs(p, self._srs)\n",
    "    def open_polynomial(self, p: Polynomial, z):\n",
    "        return open_polynomial_for_srs(p, z, self._srs)\n",
    "\n",
    "class KZGVerifier:\n",
    "    def __init__(self, srs):\n",
    "        self._G = srs[0]\n",
    "        self._tau_G = srs[1]\n",
    "    \n",
    "    def verify(self, commitment, z, y, proof):\n",
    "\n",
    "        yg = y * self._G\n",
    "        zg = z * self._G\n",
    "        \n",
    "        pairing_left = pairing(\n",
    "            commitment - yg,\n",
    "            self._G\n",
    "        )\n",
    "\n",
    "        pairing_right = pairing(\n",
    "            proof,\n",
    "            self._tau_G - zg\n",
    "        )\n",
    "        return pairing_left == pairing_right"
   ]
  },
  {
   "cell_type": "code",
   "execution_count": 15,
   "id": "bd60a07b",
   "metadata": {},
   "outputs": [],
   "source": [
    "#[TEST]\n",
    "\n",
    "prover = KZGProver(SRS)\n",
    "\n",
    "p = Polynomial.random_element(21)\n",
    "commitment = prover.commit_polynomial(p)\n",
    "z = F.random_element()\n",
    "y, proof = prover.open_polynomial(p, z)\n",
    "\n",
    "verifier = KZGVerifier(SRS)\n",
    "assert verifier.verify(commitment, z, y, proof)"
   ]
  },
  {
   "cell_type": "markdown",
   "id": "2c22c63d",
   "metadata": {},
   "source": [
    "## Batch KZG: Many polynomials on single point"
   ]
  },
  {
   "cell_type": "markdown",
   "id": "bb0ae43b",
   "metadata": {},
   "source": [
    "In Plonk it is common to have multiple polynomials $f_1,\\dots,f_k$ that need to be commited and later opened at the same point $z$. The naive approach is to do individual commitments and openings for every polynomial. Each opening involves computing two pairings, and this is costly. There's an optimization to commit to a large number of polynomials but later on only computing two pairings to open all of them at the same value $z$.\n",
    "For this to work both the KZG prover and KZG verifier will need to have access to a random value $\\alpha$ that we assume in this exercise to be given truly random. In practice it chosen given by the Plonk verifier."
   ]
  },
  {
   "cell_type": "markdown",
   "id": "f012fdf8",
   "metadata": {},
   "source": [
    "There's a theorem backing up this idea. Let $z$ be a field element and $f_0, \\dots, f_k$ polynomials. Suppose one of the polynomials, say $f_i$, is not divisible by $X - z$. Then, with high probability ($1 - k/p$) the polynomial $$f_0 + \\alpha f_1 + \\cdots + \\alpha^k f_k$$\n",
    "is not divisible by $X - z$.\n",
    "\n",
    "So, it is safe to work directly with the polynomial $\\sum_{i=0}^k\\alpha^if_i$ to start with and do a single commit and single open over it."
   ]
  },
  {
   "cell_type": "markdown",
   "id": "b1e391c5",
   "metadata": {},
   "source": [
    "### Batch KZG"
   ]
  },
  {
   "cell_type": "markdown",
   "id": "b472f4fc",
   "metadata": {},
   "source": [
    "Let $\\alpha$ be a random value (for example previously chosen by the Plonk verifier)\n",
    "\n",
    "**Commitment for $(f_1, \\dots, f_k) \\in \\mathbb{F}_p[X]^k$**: return $$\\sum_{i=1}^k\\alpha^if_i(\\tau)G$$\n",
    "\n",
    "**Opening for $z \\in \\mathbb{F}_p$**: Compute $$t = (\\sum_{i=1}^k\\alpha^if_i - \\sum_{i=1}^k\\alpha^if_i(z)) / (X - z)$$Return $\\sum_{i=1}^k\\alpha^if_i(z)$ and $t(\\tau) G$\n",
    "\n",
    "**Verify**: return Accept if $e( f(\\tau) G - y G, G)$ equals $e(t(\\tau), \\tau G - y G)$, where $$f = f_0 + \\alpha f_1 + \\cdots \\alpha^k f_k$$ and $$y = y_0 + \\alpha y_1 + \\cdots + \\alpha^k y_k$$"
   ]
  },
  {
   "cell_type": "code",
   "execution_count": 28,
   "id": "6fc14d60",
   "metadata": {},
   "outputs": [],
   "source": [
    "def batch_commit_polynomials_for_srs(polynomials: List[Polynomial], alpha: F, srs):\n",
    "    \"\"\"Returns the commitment of the list of polynomials using the given random \n",
    "    challenge `alpha` and the given SRS\"\"\"\n",
    "    comb_poly = 0\n",
    "    for i,p in enumerate(polynomials):\n",
    "        comb_poly += alpha ** i * p\n",
    "    return commit_polynomial_for_srs(comb_poly, srs)\n",
    "        \n",
    "        "
   ]
  },
  {
   "cell_type": "code",
   "execution_count": 29,
   "id": "34443790",
   "metadata": {},
   "outputs": [],
   "source": [
    "#[TEST]\n",
    "\n",
    "polynomials = [\n",
    "    51407*X^3 + 51302*X^2 + 49772*X + 61489,\n",
    "    15476*X^3 + 32649*X^2 + 4888*X + 59566,\n",
    "    43886*X^3 + 64965*X^2 + 60621*X + 33955\n",
    "]\n",
    "\n",
    "alpha = F(0xcafe)\n",
    "\n",
    "expected_commitment = E(10903, 113294, 1)\n",
    "assert batch_commit_polynomials_for_srs(polynomials, alpha, SRS) == expected_commitment"
   ]
  },
  {
   "cell_type": "code",
   "execution_count": 34,
   "id": "7fcb8b58",
   "metadata": {},
   "outputs": [],
   "source": [
    "def batch_open_polynomials_for_srs(polynomials: List[Polynomial], z: F, alpha: F, srs):\n",
    "    \"\"\"Returns `[p_0(z), p_1(z), ..., p_k(z)]` and the KZG opening proof of them using the given SRS\"\"\"\n",
    "\n",
    "    comb_poly = 0\n",
    "    for i,p in enumerate(polynomials):\n",
    "        comb_poly += alpha ** i * p\n",
    "    _, proof = open_polynomial_for_srs(comb_poly, z, srs)\n",
    "    return [p(z) for p in polynomials], proof\n",
    "        "
   ]
  },
  {
   "cell_type": "code",
   "execution_count": 35,
   "id": "d4c22822",
   "metadata": {
    "scrolled": true
   },
   "outputs": [],
   "source": [
    "#[TEST]\n",
    "\n",
    "alpha = F(0xcafe)\n",
    "z = F(0xdeadbeef)\n",
    "evaluations, proof = batch_open_polynomials_for_srs(polynomials, z, alpha, SRS)\n",
    "assert evaluations == [10394, 36975, 45154]\n",
    "assert proof == E(99056, 222835, 1)"
   ]
  },
  {
   "cell_type": "code",
   "execution_count": 42,
   "id": "5f43abc9",
   "metadata": {},
   "outputs": [],
   "source": [
    "class BatchKZGProver:\n",
    "    def __init__(self, srs):\n",
    "        self._srs = srs\n",
    "        \n",
    "    def commit_polynomials(self, polynomials: List[Polynomial], alpha: F):\n",
    "        return batch_commit_polynomials_for_srs(polynomials, alpha, self._srs)\n",
    "    \n",
    "    def open_polynomials(self, polynomials: List[Polynomial], z: F, alpha: F):\n",
    "        return batch_open_polynomials_for_srs(polynomials, z, alpha, self._srs)\n",
    "    \n",
    "class BatchKZGVerifier:\n",
    "    def __init__(self, srs):\n",
    "        self._G = srs[0]\n",
    "        self._tau_G = srs[1]\n",
    "    \n",
    "    def verify(self, commitment, z, alpha, evaluations, proof):\n",
    "        \n",
    "        comb_yg = O\n",
    "        for i,y in enumerate(evaluations):\n",
    "            comb_yg += alpha ** i * y * self._G\n",
    "\n",
    "        zg = z * self._G\n",
    "        \n",
    "        pairing_left = pairing(\n",
    "            commitment - comb_yg,\n",
    "            self._G\n",
    "        )\n",
    "\n",
    "        pairing_right = pairing(\n",
    "            proof,\n",
    "            self._tau_G - zg\n",
    "        )\n",
    "        return pairing_left == pairing_right"
   ]
  },
  {
   "cell_type": "code",
   "execution_count": 43,
   "id": "0c0346f4",
   "metadata": {},
   "outputs": [],
   "source": [
    "prover = BatchKZGProver(SRS)\n",
    "\n",
    "polynomials = [Polynomial.random_element(15) for _ in range(10)]\n",
    "alpha = F.random_element()\n",
    "commitment = prover.commit_polynomials(polynomials, alpha)\n",
    "z = F.random_element()\n",
    "evaluations, proof = prover.open_polynomials(polynomials, z, alpha)\n",
    "\n",
    "verifier = BatchKZGVerifier(SRS)\n",
    "assert verifier.verify(commitment, z, alpha, evaluations, proof)"
   ]
  },
  {
   "cell_type": "code",
   "execution_count": null,
   "id": "6dabee87",
   "metadata": {},
   "outputs": [],
   "source": []
  }
 ],
 "metadata": {
  "kernelspec": {
   "display_name": "SageMath 10.4",
   "language": "sage",
   "name": "sagemath"
  },
  "language_info": {
   "codemirror_mode": {
    "name": "ipython",
    "version": 3
   },
   "file_extension": ".py",
   "mimetype": "text/x-python",
   "name": "python",
   "nbconvert_exporter": "python",
   "pygments_lexer": "ipython3",
   "version": "3.12.4"
  }
 },
 "nbformat": 4,
 "nbformat_minor": 5
}
