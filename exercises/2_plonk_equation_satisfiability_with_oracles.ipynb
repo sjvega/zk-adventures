{
 "cells": [
  {
   "cell_type": "markdown",
   "id": "86e5cddb",
   "metadata": {},
   "source": [
    "# Naive Plonk\n",
    "\n",
    "Let's write the most naive and simple plonk kind of protocol. This will be very naive, and very useless. The actual protocol is much more convoluted. It's full of details and optimizations. Optimizations that get in the way and hide the core ideas. So let's start the simplest we can. Even in this minimalistic setting, we can start seeing some of the magic happen.\n",
    "\n",
    "We will start by proving the satisfiability of a set of equations. This is only half of the story to make proofs of execution of arithmetic circuits. But it will serve as a starting point."
   ]
  },
  {
   "cell_type": "markdown",
   "id": "207de1ee",
   "metadata": {},
   "source": [
    "We need the following ingredients for now. Everything lives in a prime field $\\mathbb{F}_p$.\n",
    "\n",
    "Common and of public knowledge:\n",
    "- A set of degree two polynomial expressions $\\{E_i\\}_{i=1}^N$  of the form $E_i(X, Y, Z) = Q_L X + Q_R Y + Q_M X Y + Q_O Z + Q_C$. We'll call these *equations* since we'll only be interested in them for the solutions $(A, B, C)$ to the equation $E_i(A, B, C) = 0$.\n",
    "\n",
    "Known only to the prover:\n",
    "- A set of triplets $\\{(A_i, B_i, C_i)\\}_{i=1}^N$ such that each triplet is a solution to the corresponding equation. More precisely: $E_i(A_i, B_i, C_i) = 0$ for all $i=1,\\dots,N$.\n",
    "\n",
    "The goal is to describe a \"protocol\" between a prover and a verifier in which the prover convinces the verifier that he is in possession of such a set of triplets.\n",
    "\n",
    "Let's start by implementing `Equations` and `Triplets`"
   ]
  },
  {
   "cell_type": "markdown",
   "id": "cb098dd4",
   "metadata": {},
   "source": [
    "\n",
    "    <b>Why do we talk about \"sets of equations\" and not \"systems of equations\"?</b>\n",
    "\n",
    "When talking about a system of equations it's implicit that by \"a solution\" we mean values that satisfy each of the equations of the system simultaneously. For example a solution to the system of equations $$\\begin{aligned}X + XY + Z &= 0 \\\\ X + Y - Z &= 0 \\end{aligned},$$ would be a triplet $(A, B, C)$ such that it satisfies *both* equations. For example $(A, B, C) = (1, -1, 0)$.\n",
    "\n",
    "In our context we have independent equations, each with its independent solution. That's why we talk about sets of equations. So in our context if $E_1 = X - XY + Z$ and $E_2 = X + Y - Z$, then we are intereseted in pairs of triplets $(A_1, B_1, C_1)$ and $(A_2, B_2, C_2)$ such that $A_1 - A_1 B_1 + Z_1 = 0$ and $A_2 + B_2 - Z_1 = 0$. For example $\\{(0, 1, 0), (0, 1, 1)\\}$.\n",
    "\n",
    "That's why we talk about sets and not systems. We have sets of independent equations and sets of independent solutions to each one.\n",
    "    \n",
    "<b>Eventually for a working Plonk version one actually needs to see these somehow as systems of equations. Checking that solution values are consistent across equations is a rabbit hole in itself that we'll cover later on. For this quest we are only interested in them as sets.</b>"
   ]
  },
  {
   "cell_type": "markdown",
   "id": "c89eaa70",
   "metadata": {},
   "source": [
    "# Setting up"
   ]
  },
  {
   "cell_type": "code",
   "execution_count": 83,
   "id": "22edc0e9",
   "metadata": {},
   "outputs": [],
   "source": [
    "from zk_adventures_types import F, Polynomial"
   ]
  },
  {
   "cell_type": "markdown",
   "id": "725bc815",
   "metadata": {},
   "source": [
    "# Equations and triplets"
   ]
  },
  {
   "cell_type": "code",
   "execution_count": 85,
   "id": "ba4d2bf3",
   "metadata": {},
   "outputs": [],
   "source": [
    "from enum import IntEnum\n",
    "\n",
    "class Equation:\n",
    "    \"\"\"An expression of form Q_L X + Q_R Y + Q_M X Y + Q_O Z + Q_C on variables X, Y and Z\"\"\"\n",
    "    def __init__(self, Q_L: int, Q_R: int, Q_M: int, Q_O: int, Q_C: int):\n",
    "        self._values = (F(Q_L), F(Q_R), F(Q_M), F(Q_O), F(Q_C))\n",
    "        \n",
    "    def values(self):\n",
    "        return self._values\n",
    "        \n",
    "    def __getitem__(self, index):\n",
    "        if not isinstance(index, self.Index):\n",
    "            raise ValueError\n",
    "        return self._values[index]\n",
    "    \n",
    "    class Index(IntEnum):\n",
    "        L = 0, \n",
    "        R = 1,\n",
    "        M = 2,\n",
    "        O = 3,\n",
    "        C = 4\n",
    "\n",
    "class Triplet:\n",
    "    \"\"\"A triplet of values (A, B, C) in the finite field\"\"\"\n",
    "    def __init__(self, A: int, B: int, C: int):\n",
    "        self._values = (F(A), F(B), F(C))\n",
    "    \n",
    "    def values(self):\n",
    "        return self._values\n",
    "        \n",
    "    def __getitem__(self, index):\n",
    "        if not isinstance(index, self.Index):\n",
    "            raise ValueError\n",
    "        return self._values[index]\n",
    "\n",
    "    class Index(IntEnum):\n",
    "        A = 0, \n",
    "        B = 1,\n",
    "        C = 2\n",
    "\n",
    "def f(Q_L, Q_R, Q_M, Q_O, Q_C, A, B, C):\n",
    "    \"\"\"\n",
    "    Multivariate polynomial encoding correct satisfiability of solutions to the equations\n",
    "    \"\"\"\n",
    "    return Q_L * A + Q_R * B + Q_M * A * B + Q_O * C + Q_C\n",
    "\n",
    "def is_solution(triplet: Triplet, equation: Equation) -> bool:\n",
    "    \"\"\"Check whether `triplet` is a solution to `equation`\"\"\"\n",
    "    Q_L = equation[Equation.Index.L] \n",
    "    Q_R = equation[Equation.Index.R]\n",
    "    Q_M = equation[Equation.Index.M]\n",
    "    Q_O = equation[Equation.Index.O]\n",
    "    Q_C = equation[Equation.Index.C]\n",
    "    A = triplet[Triplet.Index.A]\n",
    "    B = triplet[Triplet.Index.B]\n",
    "    C = triplet[Triplet.Index.C]\n",
    "    return f(Q_L,Q_R,Q_M,Q_O,Q_C,A,B,C) == 0"
   ]
  },
  {
   "cell_type": "code",
   "execution_count": 86,
   "id": "97d8bd11",
   "metadata": {},
   "outputs": [],
   "source": [
    "# Equations that model the program z = xor(x, y)\n",
    "equations = [\n",
    "    Equation(1, 0, -1, 0, 0),\n",
    "    Equation(1, 0, -1, 0, 0),\n",
    "    Equation(1, 0, -1, 0, 0),\n",
    "    Equation(1, 1, -2, -1, 0)\n",
    "]"
   ]
  },
  {
   "cell_type": "code",
   "execution_count": 87,
   "id": "4838b1e4",
   "metadata": {},
   "outputs": [],
   "source": [
    "triplets = [\n",
    "    Triplet(1, 1, 1),\n",
    "    Triplet(1, 1, 1),\n",
    "    Triplet(0, 0, 1),\n",
    "    Triplet(1, 1, 0)\n",
    "]"
   ]
  },
  {
   "cell_type": "code",
   "execution_count": 88,
   "id": "10ee6dc1",
   "metadata": {},
   "outputs": [],
   "source": [
    "for triplet, equation in zip(triplets, equations):\n",
    "    assert(is_solution(triplet, equation))\n",
    "    \n",
    "assert(not is_solution(Triplet(2, 2, 0), equations[0]))"
   ]
  },
  {
   "cell_type": "markdown",
   "id": "7f0d3258",
   "metadata": {},
   "source": [
    "# Polynomial interpolation"
   ]
  },
  {
   "cell_type": "markdown",
   "id": "241fac10",
   "metadata": {},
   "source": [
    "A key component in what follows is encoding vectors as polynomials through polynomial interpolation. Let's describe the context and motivation.\n",
    "\n",
    "Let $\\{E_i\\}_{i=1}^N$ be a set of equations and $\\{(A_i, B_i, C_i)\\}_{i=1}^N$ a corresponding solution for each one. Each equation $E_i$ has its own coefficients $Q_L^i, Q_R^i$, etc. And let $H$ be a set of the form $H=\\{1, \\omega, \\omega^2, \\dots, \\omega^{N-1}\\}$, where $\\omega^N=1$. In other words, the *order* of $\\omega$ is $N$. We want to interpolate the coefficients and entries of the equations and triplets at $H$ in the following sense.\n",
    "\n",
    "Let $q_L$ be the polynomial such that $q_L(\\omega^i) = Q_L^i$ for all $i$. Similarly with $q_R, q_M, q_C$ and $q_O$. Let also $a$ be the polynomial such that $a(\\omega^i) = A_i$ for all $i$. And similarly for $b$ and $c$.\n",
    "\n",
    "By composing the multilinear polynomial $f$ with these univariate polynomials we obtain $$g = f(q_L, q_R, q_M, q_C, q_O, a, b, c).$$ The polynomial $g$ is univariate and satisfies $$g(\\omega^i) = 0$$ for all $i$. Moreover, the set $\\{(A_i, B_i, C_i)\\}_{i=1}^N$ is a set of solutions to each equation $E_i$ if and only if $g(\\omega^i) = 0$ for all $i$. On the other hand, $g$ has such a property if and only if there exists a polynomial $t$ such that $$g = (X^N - 1)t$$\n",
    "\n",
    "Why going down this road? The Schwarz-Zippel lemma says that, with high probability, $g$ has such a decomposition if \n",
    "$$ g(z) = (z^N - 1)t(z) $$ for some random element $z$. In which case, unrolling all the reasoning back, by just checking that equality at one point $z$ we get with high probability that the polynomials $a$, $b$ and $c$ interpolate solutions to the equations $E_i$. This means that a single point check implies, with high probability, a global satisfiability of a set of solutions."
   ]
  },
  {
   "cell_type": "code",
   "execution_count": 89,
   "id": "0e79974d",
   "metadata": {},
   "outputs": [],
   "source": [
    "class Domain:\n",
    "    def __init__(self, omega: int):\n",
    "        \"\"\"Produces the set of all powers of `omega` modulo `p` and stores them in `self._elements`\"\"\"\n",
    "        omega = F(omega)\n",
    "        size = omega.multiplicative_order()\n",
    "        # COMPLETE\n",
    "        self._elements = []\n",
    "        for k in range(size):\n",
    "            self._elements.append(omega ** k)\n",
    "    \n",
    "    @classmethod\n",
    "    def of_size(cls, size: int):\n",
    "        \"\"\"Returns a domain of size `size`.\"\"\"\n",
    "        # generator of the full units group of 𝔽. That is, the powers \n",
    "        # of `generator` produce all nonzero elements of 𝔽\n",
    "        generator = F.multiplicative_generator()\n",
    "        p = F.order()\n",
    "        if size <= 0 or (p - 1) % size != 0:\n",
    "            raise ValueError\n",
    "        # COMPLETE\n",
    "        k = int((p-1) / size)\n",
    "        return cls(generator ** k)\n",
    "    \n",
    "    def __len__(self):\n",
    "        return len(self._elements)\n",
    "    \n",
    "    def __getitem__(self, index):\n",
    "        return self._elements[index]"
   ]
  },
  {
   "cell_type": "code",
   "execution_count": 90,
   "id": "b433c9d5",
   "metadata": {
    "scrolled": true
   },
   "outputs": [],
   "source": [
    "assert(list(Domain.of_size(8)) == [1, 4096, 65281, 16, 65536, 61441, 256, 65521])"
   ]
  },
  {
   "cell_type": "code",
   "execution_count": 110,
   "id": "b34cac0a",
   "metadata": {},
   "outputs": [],
   "source": [
    "def interpolate_triplets(domain: Domain, triplets: list[Triplet], index: Triplet.Index) -> Polynomial:\n",
    "    \"\"\"Returns the polynomial `p` such that `p(domain[i]) = triplets[i][index]\"\"\"\n",
    "    size = len(triplets)\n",
    "    domain = Domain.of_size(size)\n",
    "    points = []\n",
    "    for i in range(size):\n",
    "        points.append((domain[i], triplets[i][index]))\n",
    "    return Polynomial.lagrange_polynomial(points, 'divided_difference')\n",
    "    \n",
    "def interpolate_equations(domain: Domain, equations: list[Equation], index: Equation.Index) -> Polynomial:\n",
    "    \"\"\"Returns the polynomial `p` such that `p(domain[i]) = equation[i][index]\"\"\"\n",
    "    size = len(equations)\n",
    "    domain = Domain.of_size(size)\n",
    "    points = []\n",
    "    for i in range(size):\n",
    "        points.append((domain[i], equations[i][index]))\n",
    "    return Polynomial.lagrange_polynomial(points, 'divided_difference')"
   ]
  },
  {
   "cell_type": "code",
   "execution_count": 111,
   "id": "1ca1f288",
   "metadata": {},
   "outputs": [],
   "source": [
    "domain = Domain.of_size(size=len(triplets))\n",
    "\n",
    "a = interpolate_triplets(domain, triplets, Triplet.Index.A)\n",
    "b = interpolate_triplets(domain, triplets, Triplet.Index.B)\n",
    "c = interpolate_triplets(domain, triplets, Triplet.Index.C)\n",
    "\n",
    "q_L = interpolate_equations(domain, equations, Equation.Index.L)\n",
    "q_R = interpolate_equations(domain, equations, Equation.Index.R)\n",
    "q_M = interpolate_equations(domain, equations, Equation.Index.M)\n",
    "q_O = interpolate_equations(domain, equations, Equation.Index.O)\n",
    "q_C = interpolate_equations(domain, equations, Equation.Index.C)"
   ]
  },
  {
   "cell_type": "code",
   "execution_count": 113,
   "id": "21d8e3b9",
   "metadata": {},
   "outputs": [],
   "source": [
    "X = Polynomial.monomial(1)\n",
    "fpol = f(q_L, q_R, q_M, q_O, q_C, a, b, c)\n",
    "r = (X ** 4 - 1) \n",
    "t= fpol // r"
   ]
  },
  {
   "cell_type": "code",
   "execution_count": 114,
   "id": "3c2c093e",
   "metadata": {},
   "outputs": [],
   "source": [
    "assert(t * (X ** 4 - 1) == f(q_L, q_R, q_M, q_O, q_C, a, b, c))\n",
    "assert(t(0xfeca) == 49096)"
   ]
  },
  {
   "cell_type": "markdown",
   "id": "6e5bf264",
   "metadata": {},
   "source": [
    "### Oracles\n",
    "\n",
    "The idea will be that the prover constructs all these polynomials and somehow communicates them to the verifier so that he can sample a random $z$ and perform the single point check. We talk about *oracles* when we want to abstract away from how that communication is done.\n",
    "\n",
    "The size of the polynomials is as big as the size of the solutions $(A_i, B_i, C_i)$. So sending the whole set of coefficients is silly. Because reading that list of coefficients would require an effort from the verifier of the same sort as reading the set of solutions. In the end, this is solved with what's called *Polynomial Commitment Schemes*. But introducing them here would add so much complexity that the idea we are trying to convey about the single point checks would get lost in the way.\n",
    "\n",
    "So let's imagine there's a thing called a Polynomial Oracle that the prover can send to the verifier. Let's assume that it is lightweight. And it can be used to query the value taken by a polynomial at any point. Right now we'll use a *naive oracle*, which holds the entire polynomial in a secret attribute that the verifier can't see (and the communication of this instance to the verifier is cheap because the verifier has access to the memory of the Python interpreter of the prover)."
   ]
  },
  {
   "cell_type": "code",
   "execution_count": 115,
   "id": "1b17252c",
   "metadata": {},
   "outputs": [],
   "source": [
    "class Oracle:\n",
    "    def __init__(self, polynomial: Polynomial):\n",
    "        raise NotImplementedError(\"subclass responsibility\")\n",
    "        \n",
    "    def query(self, z):\n",
    "        raise NotImplementedError(\"subclass responsibility\")"
   ]
  },
  {
   "cell_type": "code",
   "execution_count": 117,
   "id": "8435cc14",
   "metadata": {},
   "outputs": [],
   "source": [
    "import sys\n",
    "\n",
    "class NaiveOracle(Oracle):\n",
    "    def __init__(self, polynomial: Polynomial):\n",
    "        self._polynomial = polynomial\n",
    "    \n",
    "    def query(self, z):\n",
    "        \"\"\"\n",
    "        One-time single use function. Returns the value of the polynomial at `z`.\n",
    "        On first use this function dumps the polynomial and returns `None`\n",
    "        for subsequent calls.\n",
    "        \"\"\"\n",
    "        if self._polynomial is not None:\n",
    "            y = self._polynomial(z)\n",
    "            self._polynomial = None\n",
    "            return y"
   ]
  },
  {
   "cell_type": "code",
   "execution_count": 118,
   "id": "b6098ccb",
   "metadata": {},
   "outputs": [],
   "source": [
    "random_polynomial = Polynomial.random_element()\n",
    "oracle = NaiveOracle(random_polynomial)\n",
    "assert(oracle.query(10) == random_polynomial(10))"
   ]
  },
  {
   "cell_type": "code",
   "execution_count": 125,
   "id": "f736f3ed",
   "metadata": {},
   "outputs": [],
   "source": [
    "class PlonkEquationSatisfiabilityProver:\n",
    "    def prove(self, equations: list[Equation], triplets: list[Triplet]):\n",
    "        if len(equations) != len(triplets):\n",
    "            raise ValueError\n",
    "\n",
    "        domain = Domain.of_size(size=len(equations))\n",
    "\n",
    "        a = interpolate_triplets(domain, triplets, Triplet.Index.A)\n",
    "        b = interpolate_triplets(domain, triplets, Triplet.Index.B)\n",
    "        c = interpolate_triplets(domain, triplets, Triplet.Index.C)\n",
    "\n",
    "        q_L = interpolate_equations(domain, equations, Equation.Index.L)\n",
    "        q_R = interpolate_equations(domain, equations, Equation.Index.R)\n",
    "        q_M = interpolate_equations(domain, equations, Equation.Index.M)\n",
    "        q_O = interpolate_equations(domain, equations, Equation.Index.O)\n",
    "        q_C = interpolate_equations(domain, equations, Equation.Index.C)\n",
    "\n",
    "        Z_H = f(q_L, q_R, q_M, q_O, q_C, a, b, c)\n",
    "        X = Polynomial.monomial(1)\n",
    "        roots = X ** len(equations) - 1\n",
    "        t = Z_H // roots\n",
    "\n",
    "        return [NaiveOracle(a), NaiveOracle(b), NaiveOracle(c), NaiveOracle(t)]\n",
    "    \n",
    "class PlonkEquationSatisfiabilityVerifier:    \n",
    "    def verify(self, equations: list[Equation], proof: list[NaiveOracle]) -> bool:\n",
    "        if len(proof) != 4:\n",
    "            raise ValueError\n",
    "                \n",
    "        domain = Domain.of_size(size=len(equations))\n",
    "\n",
    "        q_L = interpolate_equations(domain, equations, Equation.Index.L)\n",
    "        q_R = interpolate_equations(domain, equations, Equation.Index.R)\n",
    "        q_M = interpolate_equations(domain, equations, Equation.Index.M)\n",
    "        q_O = interpolate_equations(domain, equations, Equation.Index.O)\n",
    "        q_C = interpolate_equations(domain, equations, Equation.Index.C)\n",
    "        \n",
    "        z = F.random_element()\n",
    "        \n",
    "        oracle_a, oracle_b, oracle_c, oracle_t = proof\n",
    "        a_z = oracle_a.query(z)\n",
    "        b_z = oracle_b.query(z)\n",
    "        c_z = oracle_c.query(z)\n",
    "        t_z = oracle_t.query(z)\n",
    "\n",
    "        X = Polynomial.monomial(1)\n",
    "        roots = X ** len(equations) - 1\n",
    "        \n",
    "        # Point check implies global satisfiability with high probability\n",
    "        left_hand_side = f(q_L(z), q_R(z), q_M(z), q_O(z), q_C(z), a_z, b_z, c_z)\n",
    "        right_hand_side = roots(z) * t_z\n",
    "        \n",
    "        return left_hand_side == right_hand_side"
   ]
  },
  {
   "cell_type": "code",
   "execution_count": 126,
   "id": "ecfe9d0a",
   "metadata": {},
   "outputs": [],
   "source": [
    "prover = PlonkEquationSatisfiabilityProver()\n",
    "proof = prover.prove(equations, triplets)\n",
    "\n",
    "verifier = PlonkEquationSatisfiabilityVerifier()\n",
    "assert(verifier.verify(equations, proof))"
   ]
  },
  {
   "cell_type": "markdown",
   "id": "9418efd9",
   "metadata": {},
   "source": [
    "### Slight improvement: Preprocessed input"
   ]
  },
  {
   "cell_type": "markdown",
   "id": "626fa031",
   "metadata": {},
   "source": [
    "You may have noticed that the prover and verifier need access to the polynomials $q_L, q_R$, etc. These only depend on the set of equations and can be precomputed to make everyone's life easier."
   ]
  },
  {
   "cell_type": "code",
   "execution_count": 127,
   "id": "76fe4a0d",
   "metadata": {},
   "outputs": [],
   "source": [
    "class PlonkEquationSatisfiabilitySetup:\n",
    "    def setup(self, equations: list[Equation]) -> tuple:\n",
    "        \n",
    "        domain = Domain.of_size(size=len(equations))\n",
    "\n",
    "        q_L = interpolate_equations(domain, equations, Equation.Index.L)\n",
    "        q_R = interpolate_equations(domain, equations, Equation.Index.R)\n",
    "        q_M = interpolate_equations(domain, equations, Equation.Index.M)\n",
    "        q_O = interpolate_equations(domain, equations, Equation.Index.O)\n",
    "        q_C = interpolate_equations(domain, equations, Equation.Index.C)\n",
    "        \n",
    "        prover_input = (domain, (q_L, q_R, q_M, q_O, q_C))\n",
    "        verifier_input = (domain, tuple(map(NaiveOracle, (q_L, q_R, q_M, q_O, q_C))))\n",
    "        \n",
    "        return (prover_input, verifier_input)"
   ]
  },
  {
   "cell_type": "code",
   "execution_count": 143,
   "id": "396e6266",
   "metadata": {},
   "outputs": [],
   "source": [
    "class PlonkEquationSatisfiabilityProver:\n",
    "    def prove(self, preprocessed_input: tuple, triplets: list[Triplet]):\n",
    "        if len(equations) != len(triplets):\n",
    "            raise ValueError\n",
    "        domain, qs = preprocessed_input\n",
    "        \n",
    "        a = interpolate_triplets(domain, triplets, Triplet.Index.A)\n",
    "        b = interpolate_triplets(domain, triplets, Triplet.Index.B)\n",
    "        c = interpolate_triplets(domain, triplets, Triplet.Index.C)\n",
    "\n",
    "        Z_H = f(*qs, a, b, c)\n",
    "\n",
    "        X = Polynomial.monomial(1)\n",
    "        roots = X ** len(triplets) - 1\n",
    "        t = Z_H // roots\n",
    "            \n",
    "        return [NaiveOracle(a), NaiveOracle(b), NaiveOracle(c), NaiveOracle(t)]\n",
    "    \n",
    "class PlonkEquationSatisfiabilityVerifier:\n",
    "    def verify(self, preprocessed_input: tuple, proof: list[NaiveOracle]) -> bool:\n",
    "        if len(proof) != 4:\n",
    "            raise ValueError\n",
    "\n",
    "        domain, oracles_q = preprocessed_input\n",
    "        z = F.random_element()\n",
    "        oracle_a, oracle_b, oracle_c, oracle_t = proof\n",
    "        a_z = oracle_a.query(z)\n",
    "        b_z = oracle_b.query(z)\n",
    "        c_z = oracle_c.query(z)\n",
    "        t_z = oracle_t.query(z)\n",
    "\n",
    "        X = Polynomial.monomial(1)\n",
    "        roots = X ** len(triplets) - 1\n",
    "        \n",
    "        # Point check implies global satisfiability with high probability\n",
    "        q_z = (oracle.query(z) for oracle in oracles_q)\n",
    "            \n",
    "        left_hand_side = f(*q_z, a_z, b_z, c_z)\n",
    "        right_hand_side = roots(z) * t_z\n",
    "        \n",
    "        return left_hand_side == right_hand_side"
   ]
  },
  {
   "cell_type": "code",
   "execution_count": 145,
   "id": "eb9428f7",
   "metadata": {},
   "outputs": [],
   "source": [
    "setup = PlonkEquationSatisfiabilitySetup()\n",
    "prover_input, verifier_input = setup.setup(equations)\n",
    "\n",
    "prover = PlonkEquationSatisfiabilityProver()\n",
    "proof = prover.prove(prover_input, triplets)\n",
    "\n",
    "verifier = PlonkEquationSatisfiabilityVerifier()\n",
    "assert(verifier.verify(verifier_input, proof))"
   ]
  },
  {
   "cell_type": "markdown",
   "id": "c5c689b2",
   "metadata": {},
   "source": [
    "# Constant time verification\n",
    "Notice that the number of operations of the verifier does not depend on the size of the set of equations. This means that the set can have 4 equations or $2^{20}$ and the code will run in the same time. This is still silly and useless since for it to be true the verifier needs to read the instances of the oracles from the python interpreter's memory of the prover. If these would have been sent over the network, the verifier would need to read them and that would be expensive."
   ]
  },
  {
   "cell_type": "code",
   "execution_count": null,
   "id": "2a31b7d9",
   "metadata": {},
   "outputs": [],
   "source": []
  }
 ],
 "metadata": {
  "kernelspec": {
   "display_name": "SageMath 10.4",
   "language": "sage",
   "name": "sagemath"
  },
  "language_info": {
   "codemirror_mode": {
    "name": "ipython",
    "version": 3
   },
   "file_extension": ".py",
   "mimetype": "text/x-python",
   "name": "python",
   "nbconvert_exporter": "python",
   "pygments_lexer": "ipython3",
   "version": "3.12.4"
  }
 },
 "nbformat": 4,
 "nbformat_minor": 5
}
